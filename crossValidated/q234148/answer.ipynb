{
 "cells": [
  {
   "cell_type": "code",
   "execution_count": 8,
   "metadata": {
    "collapsed": true
   },
   "outputs": [],
   "source": [
    "import numpy as np\n",
    "import scipy as sp\n",
    "import matplotlib.pyplot as plt\n",
    "%matplotlib inline"
   ]
  },
  {
   "cell_type": "markdown",
   "metadata": {},
   "source": [
    "## Question\n",
    "\n",
    "Why is it that when the score variance gets LARGER we get MORE confident about the MLE estimate?"
   ]
  },
  {
   "cell_type": "markdown",
   "metadata": {},
   "source": [
    "## Math\n",
    "\n",
    "Let $X_1 ,...,X_T$ be an iid sample with $X_i \\sim Bernoulli(\\theta_0)$ with $\\theta_0$ being the true parameter.\n",
    "\n",
    "The joint density/likelihood function is given by:\n",
    "$$f( x ; \\theta )= L ( \\theta | x )= \\prod_{i=1}^{T}{\\theta^{x_i}(1-\\theta)^{1-x_i}}=\\theta^{\\sum x_i}(1-\\theta)^{n-\\sum x_i}$$\n",
    "\n",
    "The score function is given by:\n",
    "$$ S(\\theta | x)=\\frac{\\partial \\ln L(\\theta|x)}{\\partial \\theta}= \\frac{1}{\\theta}\\sum x_i - \\frac{1}{1-\\theta}(T - \\sum x_i) $$\n",
    "\n",
    "The MLE of $\\theta_0$ is:\n",
    "$$\\hat{\\theta}=\\frac{1}{T}\\sum_{i=1}^{T}x_i $$\n",
    "\n",
    "And the sample Fisher Information is:\n",
    "$$ I(\\theta | x) = -\\mathbf{E}[\\frac{\\partial^2 \\ln L(\\theta|x)}{\\partial \\theta^2}]$$\n",
    "\n",
    "Evaluated at $\\theta_0$:\n",
    "$$ I(\\theta_0 | x) = T(\\frac{1}{\\theta_0} + \\frac{1}{1-\\theta_0}) $$\n",
    "\n",
    "Then:\n",
    "$$\\frac{1}{\\sqrt{T}}S(\\theta_0|x) \\xrightarrow{D} \\mathcal{N}(0, \\frac{I(\\theta_0)}{T}) $$\n",
    "\n",
    "and:\n",
    "$$\\sqrt{T}(\\hat{\\theta}-\\theta_0) \\xrightarrow{D} \\mathcal{N}(0, \\{\\frac{I(\\theta_0)}{T}\\}^{-1}) $$"
   ]
  },
  {
   "cell_type": "markdown",
   "metadata": {},
   "source": [
    "## Code"
   ]
  },
  {
   "cell_type": "code",
   "execution_count": 9,
   "metadata": {
    "collapsed": true
   },
   "outputs": [],
   "source": [
    "def get_score_mle(theta_true, n_data):\n",
    "    \"\"\"Generate a set of data and get the score at theta_true.\"\"\"\n",
    "    data = np.random.binomial(1, theta_true, n_data)\n",
    "    data_sum = data.sum()\n",
    "    data_len = float(len(data))\n",
    "    theta_mle = 1./data_len * data_sum\n",
    "    score_theta_true = 1/theta_true * data_sum - 1/(1-theta_true)*( data_len - data_sum)\n",
    "    return score_theta_true, theta_mle"
   ]
  },
  {
   "cell_type": "code",
   "execution_count": 10,
   "metadata": {
    "collapsed": true
   },
   "outputs": [],
   "source": [
    "def run_exps(n_exp, theta_true, n_data):\n",
    "    \"\"\"Generate n_exp set of data and get the score at theta_true for each set.\"\"\"\n",
    "    res_score = np.empty(n_exp, dtype=float)\n",
    "    res_mle = np.empty(n_exp, dtype=float)\n",
    "    for i in range(n_exp):\n",
    "        score_theta_true, theta_mle = get_score_mle(theta_true, n_data)\n",
    "        res_score[i] = score_theta_true\n",
    "        res_mle[i] = theta_mle\n",
    "        fisher_info = n_data * (1./theta_true + 1./(1.-theta_true))\n",
    "        if not i%1000:\n",
    "            print '::: iteration %i :'%i, score_theta_true, theta_mle\n",
    "    return (n_data, fisher_info, res_score, res_mle) "
   ]
  },
  {
   "cell_type": "code",
   "execution_count": 11,
   "metadata": {
    "collapsed": true
   },
   "outputs": [],
   "source": [
    "def plot_res(res):\n",
    "    \"\"\"Plot result from run_exps\"\"\"\n",
    "    score_normalized = res[2]/np.sqrt(res[0])\n",
    "    mle_normalized = res[3]*np.sqrt(res[0])\n",
    "    \n",
    "    print '::: n_data: %i'%res[0]\n",
    "\n",
    "    print '::: fisher info/T: %f'%(res[1]/res[0])\n",
    "    print '::: var(score/sqrt(T)): %f'%score_normalized.var()\n",
    "    \n",
    "    print '::: (fisher info/T)^-1: %f'%(res[0]/res[1])\n",
    "    print '::: var(mle*sqrt(T)): %f'%mle_normalized.var()\n",
    "\n",
    "    fig, axes = plt.subplots(1, 2, sharey=True, figsize=(20,6))\n",
    "    _ = axes[0].hist(score_normalized, 100, label='score/sqrt(T)')\n",
    "    axes[0].legend()\n",
    "    _ = axes[1].hist(mle_normalized, 100, label='mle*sqrt(T)')\n",
    "    axes[1].legend()\n",
    "    fig.show()"
   ]
  },
  {
   "cell_type": "markdown",
   "metadata": {},
   "source": [
    "## Analysis\n",
    "\n",
    "Compare the score variance for bernoulli samples with 100 and 10000 data points."
   ]
  },
  {
   "cell_type": "code",
   "execution_count": 12,
   "metadata": {
    "collapsed": false
   },
   "outputs": [
    {
     "name": "stdout",
     "output_type": "stream",
     "text": [
      "::: iteration 0 : -22.2222222222 0.8998\n",
      "::: iteration 1000 : 177.777777778 0.9016\n",
      "::: iteration 2000 : -144.444444444 0.8987\n",
      "::: iteration 3000 : -166.666666667 0.8985\n",
      "::: iteration 4000 : 222.222222222 0.902\n",
      "::: iteration 5000 : -500.0 0.8955\n",
      "::: iteration 6000 : -55.5555555556 0.8995\n",
      "::: iteration 7000 : -411.111111111 0.8963\n",
      "::: iteration 8000 : -744.444444444 0.8933\n",
      "::: iteration 9000 : 322.222222222 0.9029\n",
      "----------------------------------------------------------------------------------------------------\n",
      "::: iteration 0 : 33.3333333333 0.93\n",
      "::: iteration 1000 : -66.6666666667 0.84\n",
      "::: iteration 2000 : 22.2222222222 0.92\n",
      "::: iteration 3000 : 11.1111111111 0.91\n",
      "::: iteration 4000 : -1.42108547152e-14 0.9\n",
      "::: iteration 5000 : -33.3333333333 0.87\n",
      "::: iteration 6000 : -22.2222222222 0.88\n",
      "::: iteration 7000 : -1.42108547152e-14 0.9\n",
      "::: iteration 8000 : -11.1111111111 0.89\n",
      "::: iteration 9000 : -55.5555555556 0.85\n"
     ]
    }
   ],
   "source": [
    "np.random.seed(0)\n",
    "n_exp = 10000\n",
    "theta_true = 0.9\n",
    "\n",
    "\n",
    "res_1 = run_exps(n_exp, theta_true, n_data=10000)\n",
    "        \n",
    "print '-'*100\n",
    "        \n",
    "res_2 = run_exps(n_exp, theta_true, n_data=100)"
   ]
  },
  {
   "cell_type": "code",
   "execution_count": 13,
   "metadata": {
    "collapsed": false
   },
   "outputs": [
    {
     "name": "stdout",
     "output_type": "stream",
     "text": [
      "::: n_data: 10000\n",
      "::: fisher info/T: 11.111111\n",
      "::: var(score/sqrt(T)): 11.148946\n",
      "::: (fisher info/T)^-1: 0.090000\n",
      "::: var(mle*sqrt(T)): 0.090306\n"
     ]
    },
    {
     "data": {
      "image/png": "[encoded data removed]",
      "text/plain": [
       "<matplotlib.figure.Figure at 0x7fe7695a1750>"
      ]
     },
     "metadata": {},
     "output_type": "display_data"
    }
   ],
   "source": [
    "plot_res(res_1)"
   ]
  },
  {
   "cell_type": "code",
   "execution_count": 14,
   "metadata": {
    "collapsed": false
   },
   "outputs": [
    {
     "name": "stdout",
     "output_type": "stream",
     "text": [
      "::: n_data: 100\n",
      "::: fisher info/T: 11.111111\n",
      "::: var(score/sqrt(T)): 11.027717\n",
      "::: (fisher info/T)^-1: 0.090000\n",
      "::: var(mle*sqrt(T)): 0.089325\n"
     ]
    },
    {
     "data": {
      "image/png": "[encoded data removed]",
      "text/plain": [
       "<matplotlib.figure.Figure at 0x7fe769570d10>"
      ]
     },
     "metadata": {},
     "output_type": "display_data"
    }
   ],
   "source": [
    "plot_res(res_2)"
   ]
  },
  {
   "cell_type": "markdown",
   "metadata": {},
   "source": [
    "## Conclusion\n",
    "\n",
    "* Situation 1. \n",
    "\n",
    "$ I(\\theta_0 | x) = -\\mathbf{E}[\\frac{\\partial^2 \\ln L(\\theta|x)}{\\partial \\theta^2}\\big|_{\\theta_0}] $\n",
    "is large (hence variance of the mle will be small) then it means that the gradient of $\\frac{\\partial \\ln L(\\theta|x)}{\\partial \\theta}$ is steep. Hence even for small deviations from $\\theta_0$ ,$\\frac{\\partial \\ln L(\\theta|x)}{\\partial \\theta}$ is likely to be far from zero. This means the mle $\\hat{\\theta}$ is likely to be in a close neighbourhood of $\\theta_0$.\n",
    "\n",
    "* Situation 2. \n",
    "\n",
    "$ I(\\theta_0 | x) = -\\mathbf{E}[\\frac{\\partial^2 \\ln L(\\theta|x)}{\\partial \\theta^2}\\big|_{\\theta_0}] $ is small (hence variance of the mle will be large). In this case the gradient of the likelihood $\\frac{\\partial \\ln L(\\theta|x)}{\\partial \\theta}$ is flatter and hence $\\frac{\\partial \\ln L(\\theta|x)}{\\partial \\theta}\\approx 0$ for a large neighbourhood about the true parameter $\\theta_0$. Therefore the mle $\\hat{\\theta}$ can lie in a large neighbourhood of $\\theta_0$. \n",
    "\n"
   ]
  },
  {
   "cell_type": "markdown",
   "metadata": {},
   "source": [
    "## Sources\n",
    "\n",
    "http://faculty.washington.edu/ezivot/econ583/mleLectures.pdf\n",
    "\n",
    "https://www.stat.tamu.edu/~suhasini/teaching613/STAT613.pdf"
   ]
  }
 ],
 "metadata": {
  "kernelspec": {
   "display_name": "Python 2",
   "language": "python",
   "name": "python2"
  },
  "language_info": {
   "codemirror_mode": {
    "name": "ipython",
    "version": 2
   },
   "file_extension": ".py",
   "mimetype": "text/x-python",
   "name": "python",
   "nbconvert_exporter": "python",
   "pygments_lexer": "ipython2",
   "version": "2.7.11"
  }
 },
 "nbformat": 4,
 "nbformat_minor": 0
}
